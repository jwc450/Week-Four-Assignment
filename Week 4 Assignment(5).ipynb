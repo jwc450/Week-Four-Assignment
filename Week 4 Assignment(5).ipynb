{
  "metadata": {
    "kernelspec": {
      "name": "python",
      "display_name": "Pyolite",
      "language": "python"
    },
    "language_info": {
      "codemirror_mode": {
        "name": "python",
        "version": 3
      },
      "file_extension": ".py",
      "mimetype": "text/x-python",
      "name": "python",
      "nbconvert_exporter": "python",
      "pygments_lexer": "ipython3",
      "version": "3.8"
    }
  },
  "nbformat_minor": 4,
  "nbformat": 4,
  "cells": [
    {
      "cell_type": "markdown",
      "source": "<center>\n    <img src=\"https://cf-courses-data.s3.us.cloud-object-storage.appdomain.cloud/IBMDeveloperSkillsNetwork-DS0105EN-SkillsNetwork/labs/Module2/images/SN_web_lightmode.png\" width=\"300\" alt=\"cognitiveclass.ai logo\">\n</center>\n",
      "metadata": {}
    },
    {
      "cell_type": "markdown",
      "source": "#### Add your code below following the instructions given in the course\n",
      "metadata": {}
    },
    {
      "cell_type": "markdown",
      "source": "# Week Four Assignment",
      "metadata": {}
    },
    {
      "cell_type": "markdown",
      "source": "**Jason Childers**\nAspiring Data Scientist",
      "metadata": {}
    },
    {
      "cell_type": "markdown",
      "source": "*I am interested in data science because I believe I believe\nit's an important skill to possess in the modern workplace.*",
      "metadata": {}
    },
    {
      "cell_type": "markdown",
      "source": "Three data science languages\n  1. Python\n  2. R\n  3. SQL",
      "metadata": {}
    },
    {
      "cell_type": "markdown",
      "source": "Three data science libraries\n  * Pandas\n  * Matplotlib\n  * Seaborn",
      "metadata": {}
    },
    {
      "cell_type": "markdown",
      "source": "| Data | Science | Tools |\n| ----- | -------- | -------- |\n| MySQL | PostgreSQL | MongoDB |\n| Apache CouchDB | Apache Cassandra | Hadoop |",
      "metadata": {}
    },
    {
      "cell_type": "markdown",
      "source": "### The code in the next cell should compute a simple math problem.",
      "metadata": {}
    },
    {
      "cell_type": "code",
      "source": "1+1*3",
      "metadata": {
        "trusted": true
      },
      "execution_count": 4,
      "outputs": [
        {
          "execution_count": 4,
          "output_type": "execute_result",
          "data": {
            "text/plain": "4"
          },
          "metadata": {}
        }
      ]
    },
    {
      "cell_type": "markdown",
      "source": "Objectives:\n  * Complete this course\n  * Remember what I learn in this course\n  * Apply the knowledge in the workplace",
      "metadata": {}
    },
    {
      "cell_type": "markdown",
      "source": "My name is Jason Childers",
      "metadata": {}
    }
  ]
}